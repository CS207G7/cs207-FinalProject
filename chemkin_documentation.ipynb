{
 "cells": [
  {
   "cell_type": "markdown",
   "metadata": {},
   "source": [
    "The `chemkin` Library\n",
    "======\n",
    "\n",
    "`chemkin` stands for Chemical Kinetics.\n",
    "\n",
    "`chemkin` is a collection of algorithms aimed at predicting the time evolution of species concentration, finding the rate of change of a chemical species and calculating the rate of change of a certain specie. For multiple irreversible elementary reactions the rate of change follows the form:\n",
    "\n",
    "\\begin{align}\n",
    "  \\sum_{i=1}^{N}{\\nu_{ij}^{\\prime}\\mathcal{S}_{i}} \\longrightarrow \n",
    "  \\sum_{i=1}^{N}{\\nu_{ij}^{\\prime\\prime}\\mathcal{S}_{i}}, \\qquad j = 1, \\ldots, M\n",
    "\\end{align}\n",
    "\n",
    "`chemkin` is designed for flexibility, portability, easiness of use and easiness of extension. Its software design follows an object-oriented approach and its code is written on Python.\n",
    "\n",
    "Installation\n",
    "------------\n",
    "\n",
    "You can obtain `chemkin` to the link: https://github.com/xuefeng7/cs207-FinalProject/tree/master/src.\n",
    "\n",
    "Download the package and run it on Python. After successfully running it, you have access to `chemkin` library.\n",
    "\n",
    "\n",
    "Examples\n",
    "------------\n",
    "\n"
   ]
  },
  {
   "cell_type": "code",
   "execution_count": null,
   "metadata": {
    "collapsed": true
   },
   "outputs": [],
   "source": []
  }
 ],
 "metadata": {
  "kernelspec": {
   "display_name": "Python 3",
   "language": "python",
   "name": "python3"
  },
  "language_info": {
   "codemirror_mode": {
    "name": "ipython",
    "version": 3
   },
   "file_extension": ".py",
   "mimetype": "text/x-python",
   "name": "python",
   "nbconvert_exporter": "python",
   "pygments_lexer": "ipython3",
   "version": "3.6.0"
  }
 },
 "nbformat": 4,
 "nbformat_minor": 2
}
